{
 "cells": [
  {
   "cell_type": "code",
   "execution_count": 5,
   "id": "f8e77d57",
   "metadata": {},
   "outputs": [],
   "source": [
    "import os\n",
    "import sys\n",
    "\n",
    "sys.path.append(r\"f:\\Semantic_search_MVP\\src\\ingestion\")\n",
    "sys.path.append(r\"f:\\Semantic_search_MVP\\src\")\n"
   ]
  },
  {
   "cell_type": "code",
   "execution_count": null,
   "id": "e028d929",
   "metadata": {},
   "outputs": [],
   "source": [
    "from pdf_parser import parse_pdf, parsed_document_to_dict"
   ]
  },
  {
   "cell_type": "code",
   "execution_count": 7,
   "id": "e151e555",
   "metadata": {},
   "outputs": [],
   "source": [
    "pdf_book_path = r\"F:\\Semantic_search_MVP\\data\\pdfs\\book - Asymmetric Demography and global economy - 2015.pdf\""
   ]
  },
  {
   "cell_type": "code",
   "execution_count": 8,
   "id": "022c549b",
   "metadata": {},
   "outputs": [
    {
     "name": "stderr",
     "output_type": "stream",
     "text": [
      "2025-08-26 22:38:08,956 | INFO | pdf_parser | Parsed PDF: name=book - Asymmetric Demography and global economy - 2015.pdf pages=300 size=3364789 md5=d72966264bf4d6c78ea4d5f0e0f5fca6\n"
     ]
    }
   ],
   "source": [
    "parsing_result = parse_pdf(pdf_book_path)"
   ]
  },
  {
   "cell_type": "code",
   "execution_count": 9,
   "id": "38d99141",
   "metadata": {},
   "outputs": [
    {
     "data": {
      "text/plain": [
       "'book - Asymmetric Demography and global economy - 2015.pdf'"
      ]
     },
     "execution_count": 9,
     "metadata": {},
     "output_type": "execute_result"
    }
   ],
   "source": [
    "parsing_result.file_name"
   ]
  },
  {
   "cell_type": "code",
   "execution_count": 19,
   "id": "0a266c05",
   "metadata": {},
   "outputs": [
    {
     "data": {
      "text/plain": [
       "'x   \\n  FIGURES\\n 3.9  Demography, the current account, and investment  \\n(as % of GDP) \\n103\\n4.A1 Simulation exercises \\n126\\n 5.1 US current account (left) and the real exchange rate (right) \\n130\\n 5.2  Foreign exchange reserves by level of development  \\n(% of GDP) \\n132\\n 5.3 Current account balances (billion US dollars) \\n138\\n 6.1  Demographic trends in Brazil (solid line) and OECD  \\n(dotted line) \\n168\\n 6.2  Baseline closed scenario—Brazil (solid line) and OECD  \\n(dotted line) \\n169\\n 6.3  Baseline closed scenario—Brazil (solid and dashed lines)  \\nand OECD (dotted and dash-dot lines)—demographic  \\ndividends \\n170\\n 6.4  Baseline closed scenario—Brazil (solid and dashed lines) and  \\nOECD (dotted and dash-dot lines)—wealth decomposition \\n171\\n 6.5  Brazil Baseline—sudden opening (solid line) × Brazil closed  \\n(dotted line) \\n172\\n 6.6  Brazil Baseline—sudden opening (solid and dashed lines) ×  \\nBrazil closed (dotted and dash-dot lines)—demographic  \\ndividends \\n173\\n 6.7  Brazil Baseline—sudden opening (solid and dashed lines) ×  \\nclosed (dotted and dash-dot lines)—wealth decomposition \\n173\\n 6.8  Brazil closed—bold reform (solid line) × baseline (dotted line) \\n175\\n 6.9  Brazil closed—bold reform (solid and dashed lines) ×  \\nbaseline (dotted and dash-dot lines)—demographic  \\ndividends \\n175\\n6.10  Brazil closed—bold reform (solid and dashed lines) × baseline  \\n(dotted and dash-dot lines)—wealth decomposition \\n176\\n6.11  Brazil—Bold reform with sudden opening (solid line) ×  \\nBaseline closed (dotted line) \\n177\\n6.12  Brazil—bold reform with sudden opening (solid and dashed  \\nlines) × baseline closed (dotted and dash-dot lines)— \\ndemographic dividends \\n177\\n6.13  Brazil—bold reform with sudden opening (solid and dashed  \\nlines) × baseline closed (dotted and dash-dot lines)—wealth  \\ndecomposition \\n178\\n6.14  Brazil closed—gradual reform (solid line) × baseline  \\n(dotted line) \\n179\\n6.15  Brazil closed—gradual reform (solid and dashed lines) ×  \\nbaseline (dotted dash-dot lines)—demographic dividends \\n180\\n6.16  Brazil closed—gradual reform (solid and dashed lines) ×  \\nbaseline (dotted and dash-dot lines)—wealth decomposition \\n180\\n6.17  Brazil—gradual reform with sudden opening (solid line) ×  \\nbaseline closed (dotted line) \\n181'"
      ]
     },
     "execution_count": 19,
     "metadata": {},
     "output_type": "execute_result"
    }
   ],
   "source": [
    "parsing_result.pages[10].text"
   ]
  },
  {
   "cell_type": "code",
   "execution_count": 20,
   "id": "cc58c56b",
   "metadata": {},
   "outputs": [
    {
     "data": {
      "text/plain": [
       "[Span(text='x', bbox=[57.18899917602539, 41.41400146484375, 61.13100051879883, 50.45000076293945], start=0, end=1),\n",
       " Span(text='  ', bbox=[61.13090133666992, 42.15300369262695, 67.16290283203125, 50.185001373291016], start=2, end=4),\n",
       " Span(text='  ', bbox=[77.21099853515625, 42.15300369262695, 83.24299621582031, 50.185001373291016], start=5, end=7),\n",
       " Span(text='FIGURES', bbox=[85.25990295410156, 42.89200210571289, 116.94889068603516, 49.92000198364258], start=7, end=14),\n",
       " Span(text=' 3.9  Demography, the current account, and investment  ', bbox=[57.18899917602539, 64.46219635009766, 306.4090576171875, 74.46219635009766], start=15, end=70),\n",
       " Span(text='(as % of GDP) ', bbox=[86.18899536132812, 76.46219635009766, 149.989013671875, 86.46219635009766], start=71, end=85),\n",
       " Span(text='103', bbox=[364.3890075683594, 76.46219635009766, 381.18902587890625, 86.46219635009766], start=86, end=89),\n",
       " Span(text='4.A1 Simulation exercises ', bbox=[57.18902587890625, 88.46219635009766, 176.07907104492188, 98.46219635009766], start=90, end=116),\n",
       " Span(text='126', bbox=[364.3890075683594, 88.46219635009766, 381.18902587890625, 98.46219635009766], start=117, end=120),\n",
       " Span(text=' 5.1 US current account (left) and the real exchange rate (right) ', bbox=[57.18902587890625, 100.46219635009766, 341.54901123046875, 110.46219635009766], start=121, end=187),\n",
       " Span(text='130', bbox=[364.3890075683594, 100.46219635009766, 381.18902587890625, 110.46219635009766], start=188, end=191),\n",
       " Span(text=' 5.2  Foreign exchange reserves by level of development  ', bbox=[57.18902587890625, 112.46219635009766, 307.5191345214844, 122.46219635009766], start=192, end=249),\n",
       " Span(text='(% of GDP) ', bbox=[86.18902587890625, 124.46219635009766, 139.1890411376953, 134.4622039794922], start=250, end=261),\n",
       " Span(text='132', bbox=[364.3890380859375, 124.46219635009766, 381.1890563964844, 134.4622039794922], start=262, end=265),\n",
       " Span(text=' 5.3 Current account balances (billion US dollars) ', bbox=[57.189056396484375, 136.4622039794922, 282.04913330078125, 146.4622039794922], start=266, end=317),\n",
       " Span(text='138', bbox=[364.3890380859375, 136.4622039794922, 381.1890563964844, 146.4622039794922], start=318, end=321),\n",
       " Span(text=' 6.1  Demographic trends in Brazil (solid line) and OECD  ', bbox=[57.189056396484375, 148.4622039794922, 318.0891418457031, 158.4622039794922], start=322, end=380),\n",
       " Span(text='(dotted line) ', bbox=[86.18905639648438, 160.4622039794922, 142.98907470703125, 170.4622039794922], start=381, end=395),\n",
       " Span(text='168', bbox=[364.3890686035156, 160.4622039794922, 381.1890869140625, 170.4622039794922], start=396, end=399),\n",
       " Span(text=' 6.2  Baseline closed scenario—Brazil (solid line) and OECD  ', bbox=[57.1890869140625, 172.4622039794922, 327.7891540527344, 182.4622039794922], start=400, end=461),\n",
       " Span(text='(dotted line) ', bbox=[86.1890869140625, 184.4622039794922, 142.98910522460938, 194.4622039794922], start=462, end=476),\n",
       " Span(text='169', bbox=[364.38909912109375, 184.4622039794922, 381.1891174316406, 194.4622039794922], start=477, end=480),\n",
       " Span(text=' 6.3  Baseline closed scenario—Brazil (solid and dashed lines)  ', bbox=[57.189117431640625, 196.4622039794922, 330.189208984375, 206.4622039794922], start=481, end=545),\n",
       " Span(text='and OECD (dotted and dash-dot lines)—demographic  ', bbox=[86.18911743164062, 208.4622039794922, 325.3891906738281, 218.4622039794922], start=546, end=596),\n",
       " Span(text='dividends ', bbox=[86.18911743164062, 220.4622039794922, 129.38909912109375, 230.4622039794922], start=597, end=607),\n",
       " Span(text='170', bbox=[364.3891296386719, 220.4622039794922, 381.18914794921875, 230.4622039794922], start=608, end=611),\n",
       " Span(text=' 6.4  Baseline closed scenario—Brazil (solid and dashed lines) and  ', bbox=[57.18914794921875, 232.4622039794922, 348.5892333984375, 242.4622039794922], start=612, end=680),\n",
       " Span(text='OECD (dotted and dash-dot lines)—wealth decomposition ', bbox=[86.18914794921875, 244.4622039794922, 342.1892395019531, 254.4622039794922], start=681, end=735),\n",
       " Span(text='171', bbox=[364.38916015625, 244.4622039794922, 381.1891784667969, 254.4622039794922], start=736, end=739),\n",
       " Span(text=' 6.5  Brazil Baseline—sudden opening (solid line) × Brazil closed  ', bbox=[57.189178466796875, 256.4621887207031, 345.58929443359375, 266.4621887207031], start=740, end=807),\n",
       " Span(text='(dotted line) ', bbox=[86.18917846679688, 268.4621887207031, 142.98919677734375, 278.4621887207031], start=808, end=822),\n",
       " Span(text='172', bbox=[364.3891906738281, 268.4621887207031, 381.189208984375, 278.4621887207031], start=823, end=826),\n",
       " Span(text=' 6.6  Brazil Baseline—sudden opening (solid and dashed lines) ×  ', bbox=[57.189208984375, 280.4621887207031, 343.1893310546875, 290.4621887207031], start=827, end=892),\n",
       " Span(text='Brazil closed (dotted and dash-dot lines)—demographic  ', bbox=[86.189208984375, 292.4621887207031, 330.1893005371094, 302.4621887207031], start=893, end=948),\n",
       " Span(text='dividends ', bbox=[86.189208984375, 304.4621887207031, 129.38919067382812, 314.4621887207031], start=949, end=959),\n",
       " Span(text='173', bbox=[364.38922119140625, 304.4621887207031, 381.1892395019531, 314.4621887207031], start=960, end=963),\n",
       " Span(text=' 6.7  Brazil Baseline—sudden opening (solid and dashed lines) ×  ', bbox=[57.189239501953125, 316.4621887207031, 343.1893615722656, 326.4621887207031], start=964, end=1029),\n",
       " Span(text='closed (dotted and dash-dot lines)—wealth decomposition ', bbox=[86.18923950195312, 328.4621887207031, 337.98931884765625, 338.4621887207031], start=1030, end=1086),\n",
       " Span(text='173', bbox=[364.3892517089844, 328.4621887207031, 381.18927001953125, 338.4621887207031], start=1087, end=1090),\n",
       " Span(text=' 6.8  Brazil closed—bold reform (solid line) × baseline (dotted line) ', bbox=[57.18927001953125, 340.4621887207031, 354.2294006347656, 350.4621887207031], start=1091, end=1161),\n",
       " Span(text='175', bbox=[364.3892822265625, 340.4621887207031, 381.1893005371094, 350.4621887207031], start=1162, end=1165),\n",
       " Span(text=' 6.9  Brazil closed—bold reform (solid and dashed lines) ×  ', bbox=[57.189300537109375, 352.4621887207031, 318.0294189453125, 362.4621887207031], start=1166, end=1226),\n",
       " Span(text='baseline (dotted and dash-dot lines)—demographic  ', bbox=[86.18930053710938, 364.4621887207031, 309.9893493652344, 374.4621887207031], start=1227, end=1277),\n",
       " Span(text='dividends ', bbox=[86.18930053710938, 376.4621887207031, 129.3892822265625, 386.4621887207031], start=1278, end=1288),\n",
       " Span(text='175', bbox=[364.3893127441406, 376.4621887207031, 381.1893310546875, 386.4621887207031], start=1289, end=1292),\n",
       " Span(text='6.10  Brazil closed—bold reform (solid and dashed lines) × baseline  ', bbox=[57.1893310546875, 388.4621887207031, 355.02947998046875, 398.4621887207031], start=1293, end=1362),\n",
       " Span(text='(dotted and dash-dot lines)—wealth decomposition ', bbox=[86.7893295288086, 400.4621887207031, 309.3894348144531, 410.4621887207031], start=1363, end=1412),\n",
       " Span(text='176', bbox=[364.38934326171875, 400.4621887207031, 381.1893615722656, 410.4621887207031], start=1413, end=1416),\n",
       " Span(text='6.11  Brazil—Bold reform with sudden opening (solid line) ×  ', bbox=[57.189361572265625, 412.4621887207031, 328.8294372558594, 422.4621887207031], start=1417, end=1478),\n",
       " Span(text='Baseline closed (dotted line) ', bbox=[86.78936004638672, 424.4621887207031, 210.18943786621094, 434.4621887207031], start=1479, end=1509),\n",
       " Span(text='177', bbox=[364.3893737792969, 424.4621887207031, 381.18939208984375, 434.4621887207031], start=1510, end=1513),\n",
       " Span(text='6.12  Brazil—bold reform with sudden opening (solid and dashed  ', bbox=[57.18939208984375, 436.4621887207031, 348.02947998046875, 446.4621887207031], start=1514, end=1578),\n",
       " Span(text='lines) × baseline closed (dotted and dash-dot lines)— ', bbox=[86.78939056396484, 448.4621887207031, 315.3894958496094, 458.4621887207031], start=1579, end=1633),\n",
       " Span(text='demographic dividends ', bbox=[86.78939056396484, 460.4621887207031, 188.3894500732422, 470.4621887207031], start=1634, end=1656),\n",
       " Span(text='177', bbox=[364.389404296875, 460.4621887207031, 381.1894226074219, 470.4621887207031], start=1657, end=1660),\n",
       " Span(text='6.13  Brazil—bold reform with sudden opening (solid and dashed  ', bbox=[57.189422607421875, 472.4621887207031, 348.0295104980469, 482.4621887207031], start=1661, end=1725),\n",
       " Span(text='lines) × baseline closed (dotted and dash-dot lines)—wealth  ', bbox=[86.78942108154297, 484.4621887207031, 345.9895324707031, 494.4621887207031], start=1726, end=1787),\n",
       " Span(text='decomposition ', bbox=[86.78942108154297, 496.4621887207031, 152.58944702148438, 506.4621887207031], start=1788, end=1802),\n",
       " Span(text='178', bbox=[364.3894348144531, 496.4621887207031, 381.189453125, 506.4621887207031], start=1803, end=1806),\n",
       " Span(text='6.14  Brazil closed—gradual reform (solid line) × baseline  ', bbox=[57.189453125, 508.4621887207031, 313.029541015625, 518.4622192382812], start=1807, end=1867),\n",
       " Span(text='(dotted line) ', bbox=[86.7894515991211, 520.4622192382812, 143.58946228027344, 530.4622192382812], start=1868, end=1882),\n",
       " Span(text='179', bbox=[364.38946533203125, 520.4622192382812, 381.1894836425781, 530.4622192382812], start=1883, end=1886),\n",
       " Span(text='6.15  Brazil closed—gradual reform (solid and dashed lines) ×  ', bbox=[57.189483642578125, 532.4622192382812, 330.8295593261719, 542.4622192382812], start=1887, end=1950),\n",
       " Span(text='baseline (dotted dash-dot lines)—demographic dividends ', bbox=[86.78948211669922, 544.4622192382812, 332.589599609375, 554.4622192382812], start=1951, end=2006),\n",
       " Span(text='180', bbox=[364.3894958496094, 544.4622192382812, 381.18951416015625, 554.4622192382812], start=2007, end=2010),\n",
       " Span(text='6.16  Brazil closed—gradual reform (solid and dashed lines) ×  ', bbox=[57.18951416015625, 556.4622192382812, 330.82958984375, 566.4622192382812], start=2011, end=2074),\n",
       " Span(text='baseline (dotted and dash-dot lines)—wealth decomposition ', bbox=[86.78951263427734, 568.4622192382812, 345.78961181640625, 578.4622192382812], start=2075, end=2133),\n",
       " Span(text='180', bbox=[364.3895263671875, 568.4622192382812, 381.1895446777344, 578.4622192382812], start=2134, end=2137),\n",
       " Span(text='6.17  Brazil—gradual reform with sudden opening (solid line) ×  ', bbox=[57.189544677734375, 580.4622192382812, 340.02960205078125, 590.4622192382812], start=2138, end=2202),\n",
       " Span(text='baseline closed (dotted line) ', bbox=[86.78954315185547, 592.4622192382812, 209.1896209716797, 602.4622192382812], start=2203, end=2233),\n",
       " Span(text='181', bbox=[364.3895568847656, 592.4622192382812, 381.1895751953125, 602.4622192382812], start=2234, end=2237)]"
      ]
     },
     "execution_count": 20,
     "metadata": {},
     "output_type": "execute_result"
    }
   ],
   "source": [
    "parsing_result.pages[10].spans"
   ]
  }
 ],
 "metadata": {
  "kernelspec": {
   "display_name": ".venv",
   "language": "python",
   "name": "python3"
  },
  "language_info": {
   "codemirror_mode": {
    "name": "ipython",
    "version": 3
   },
   "file_extension": ".py",
   "mimetype": "text/x-python",
   "name": "python",
   "nbconvert_exporter": "python",
   "pygments_lexer": "ipython3",
   "version": "3.11.0"
  }
 },
 "nbformat": 4,
 "nbformat_minor": 5
}
