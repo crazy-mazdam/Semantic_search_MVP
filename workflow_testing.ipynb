{
 "cells": [
  {
   "cell_type": "code",
   "execution_count": 5,
   "id": "f8e77d57",
   "metadata": {},
   "outputs": [],
   "source": [
    "import os\n",
    "import sys\n",
    "\n",
    "sys.path.append(r\"f:\\Semantic_search_MVP\\src\\ingestion\")\n",
    "sys.path.append(r\"f:\\Semantic_search_MVP\\src\")\n"
   ]
  },
  {
   "cell_type": "code",
   "execution_count": null,
   "id": "e028d929",
   "metadata": {},
   "outputs": [],
   "source": [
    "from pdf_parser import parse_pdf, parsed_document_to_dict"
   ]
  },
  {
   "cell_type": "code",
   "execution_count": null,
   "id": "e151e555",
   "metadata": {},
   "outputs": [],
   "source": []
  }
 ],
 "metadata": {
  "kernelspec": {
   "display_name": ".venv",
   "language": "python",
   "name": "python3"
  },
  "language_info": {
   "codemirror_mode": {
    "name": "ipython",
    "version": 3
   },
   "file_extension": ".py",
   "mimetype": "text/x-python",
   "name": "python",
   "nbconvert_exporter": "python",
   "pygments_lexer": "ipython3",
   "version": "3.11.0"
  }
 },
 "nbformat": 4,
 "nbformat_minor": 5
}
