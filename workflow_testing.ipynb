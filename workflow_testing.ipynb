{
 "cells": [
  {
   "cell_type": "code",
   "execution_count": 1,
   "id": "f8e77d57",
   "metadata": {},
   "outputs": [],
   "source": [
    "import os\n",
    "import sys\n",
    "\n",
    "sys.path.append(r\"f:\\Semantic_search_MVP\\src\\ingestion\")\n",
    "sys.path.append(r\"f:\\Semantic_search_MVP\\src\")\n"
   ]
  },
  {
   "cell_type": "code",
   "execution_count": 2,
   "id": "e028d929",
   "metadata": {},
   "outputs": [],
   "source": [
    "from pdf_parser import parse_pdf, parsed_document_to_dict"
   ]
  },
  {
   "cell_type": "code",
   "execution_count": 3,
   "id": "e151e555",
   "metadata": {},
   "outputs": [],
   "source": [
    "pdf_book_path = r\"F:\\Semantic_search_MVP\\data\\pdfs\\book - Asymmetric Demography and global economy - 2015.pdf\"\n",
    "\n",
    "#pdf_book_path = r\"F:\\Semantic_search_MVP\\data\\pdfs\\Book - Macroeconomic Consequences of Demographic Change _ Modeling.pdf\""
   ]
  },
  {
   "cell_type": "code",
   "execution_count": 4,
   "id": "022c549b",
   "metadata": {},
   "outputs": [
    {
     "name": "stderr",
     "output_type": "stream",
     "text": [
      "2025-08-27 00:42:39,964 | INFO | pdf_parser | Parsed PDF: name=book - Asymmetric Demography and global economy - 2015.pdf pages=300 size=3364789 md5=d72966264bf4d6c78ea4d5f0e0f5fca6\n"
     ]
    }
   ],
   "source": [
    "parsing_result = parse_pdf(pdf_book_path)"
   ]
  },
  {
   "cell_type": "code",
   "execution_count": 5,
   "id": "38d99141",
   "metadata": {},
   "outputs": [
    {
     "data": {
      "text/plain": [
       "'book - Asymmetric Demography and global economy - 2015.pdf'"
      ]
     },
     "execution_count": 5,
     "metadata": {},
     "output_type": "execute_result"
    }
   ],
   "source": [
    "parsing_result.file_name"
   ]
  },
  {
   "cell_type": "code",
   "execution_count": 6,
   "id": "0a266c05",
   "metadata": {},
   "outputs": [
    {
     "data": {
      "text/plain": [
       "'x   \\n  FIGURES\\n 3.9  Demography, the current account, and investment  \\n(as % of GDP) \\n103\\n4.A1 Simulation exercises \\n126\\n 5.1 US current account (left) and the real exchange rate (right) \\n130\\n 5.2  Foreign exchange reserves by level of development  \\n(% of GDP) \\n132\\n 5.3 Current account balances (billion US dollars) \\n138\\n 6.1  Demographic trends in Brazil (solid line) and OECD  \\n(dotted line) \\n168\\n 6.2  Baseline closed scenario—Brazil (solid line) and OECD  \\n(dotted line) \\n169\\n 6.3  Baseline closed scenario—Brazil (solid and dashed lines)  \\nand OECD (dotted and dash-dot lines)—demographic  \\ndividends \\n170\\n 6.4  Baseline closed scenario—Brazil (solid and dashed lines) and  \\nOECD (dotted and dash-dot lines)—wealth decomposition \\n171\\n 6.5  Brazil Baseline—sudden opening (solid line) × Brazil closed  \\n(dotted line) \\n172\\n 6.6  Brazil Baseline—sudden opening (solid and dashed lines) ×  \\nBrazil closed (dotted and dash-dot lines)—demographic  \\ndividends \\n173\\n 6.7  Brazil Baseline—sudden opening (solid and dashed lines) ×  \\nclosed (dotted and dash-dot lines)—wealth decomposition \\n173\\n 6.8  Brazil closed—bold reform (solid line) × baseline (dotted line) \\n175\\n 6.9  Brazil closed—bold reform (solid and dashed lines) ×  \\nbaseline (dotted and dash-dot lines)—demographic  \\ndividends \\n175\\n6.10  Brazil closed—bold reform (solid and dashed lines) × baseline  \\n(dotted and dash-dot lines)—wealth decomposition \\n176\\n6.11  Brazil—Bold reform with sudden opening (solid line) ×  \\nBaseline closed (dotted line) \\n177\\n6.12  Brazil—bold reform with sudden opening (solid and dashed  \\nlines) × baseline closed (dotted and dash-dot lines)— \\ndemographic dividends \\n177\\n6.13  Brazil—bold reform with sudden opening (solid and dashed  \\nlines) × baseline closed (dotted and dash-dot lines)—wealth  \\ndecomposition \\n178\\n6.14  Brazil closed—gradual reform (solid line) × baseline  \\n(dotted line) \\n179\\n6.15  Brazil closed—gradual reform (solid and dashed lines) ×  \\nbaseline (dotted dash-dot lines)—demographic dividends \\n180\\n6.16  Brazil closed—gradual reform (solid and dashed lines) ×  \\nbaseline (dotted and dash-dot lines)—wealth decomposition \\n180\\n6.17  Brazil—gradual reform with sudden opening (solid line) ×  \\nbaseline closed (dotted line) \\n181'"
      ]
     },
     "execution_count": 6,
     "metadata": {},
     "output_type": "execute_result"
    }
   ],
   "source": [
    "parsing_result.pages[10].text"
   ]
  },
  {
   "cell_type": "code",
   "execution_count": 7,
   "id": "cc58c56b",
   "metadata": {},
   "outputs": [
    {
     "data": {
      "text/plain": [
       "'DEMOGRAPHIC ASYMMETRIES   \\n  37\\nwill be favorable and negative for the older countries. It is interesting to \\nnote the differences among the countries analyzed in the country studies of \\nthe book. Brazil and China are well ahead of India and South Africa in the \\ndemographic transition and, consequently, are expected to gain less from \\nthe FD. In comparing Brazil with China, in turn, we see that China’s drop \\nin the support ratio will be faster than in Brazil, thus accelerating its arrival \\nat the ageing state.\\nAs was mentioned earlier, Mason and Lee (2006a) sustain that the SD is \\nassociated with the fact that ageing populations have to provide for the old-\\nage consumption of older persons who typically have substantially reduced \\nlabor income. In some cases, societies seek to meet this challenge by relying \\non transfer systems (either public programs or family support systems), but \\nother societies increase their savings rates in order to accumulate wealth. In \\nturn, if policymakers are forward looking, they will also strive to accumulate \\nenough capital to support the social security system and accrue increased \\nhealth expenditures for the old. Hence, to the extent that the anticipated \\nlife-cycle deficits during the ageing stage are satisfied by relying on capital \\naccumulation, the result will be a permanent increase in the capital intensity \\nof the economy and a permanent rise in output per worker.\\nIs there evidence that the SD will not turn negative like the FD in the \\nfuture? Mason (2005) provides evidence that supports the hypothesis of a \\npermanent effect. Holding the transfer policy constant, so that the growth \\nrates of the capital and life-cycle wealth 4  are equal, the SD is calculated to \\nbe positive for all regions and substantially larger than the FD for the period \\nin question. In East and Southeast Asia, the SD was 1.31 percent per year \\nin additional income growth—the largest of any region. It was also large in \\nLatin America—1.08 percent per year.\\nThe assumption that capital accumulation and life-cycle wealth will move \\ntogether, however, is probably too strong. The simulations in chapter 3 show \\nthat large differences between the velocity of asset accumulation and the \\nvelocity of increased life-cycle wealth can arise in the case of the four coun-\\ntries analyzed. The methodology developed in chapter 2, in turn, shows why \\nthe inconsistencies between asset accumulation and the demand for life-cycle \\nwealth may give rise to unstable macroeconomic trajectories associated with \\nunsustainable public debt or persistent macroeconomic disequilibria, such as \\nexcessive current account surpluses that in the case of systemically important \\ncountries like China can contribute to feeding global imbalances. On the \\nother hand, Brazil’s analysis in this book indicates that a country can save too \\nlittle during the window of opportunity. Large-scale pay-as-you-go pensions \\nmay undermine savings and work incentives. In addition, financial markets \\nmay not be sufficiently developed and may not provide the savings vehicles \\n(mutual and pension funds, efficient professional investors) or the instru-\\nments to channel savings toward efficient investment in physical and human \\ncapital (Lee and Mason, 2010).\\nThe SD may be far more important than the FD because its effects are \\npermanent, but they are also more responsive to policies and the structural '"
      ]
     },
     "execution_count": 7,
     "metadata": {},
     "output_type": "execute_result"
    }
   ],
   "source": [
    "parsing_result.pages[50].text"
   ]
  },
  {
   "cell_type": "code",
   "execution_count": 8,
   "id": "5ded9ed0",
   "metadata": {},
   "outputs": [],
   "source": [
    "pdf_to_dict = parsed_document_to_dict(parsing_result)"
   ]
  },
  {
   "cell_type": "code",
   "execution_count": 9,
   "id": "7765da01",
   "metadata": {},
   "outputs": [
    {
     "data": {
      "text/plain": [
       "dict_keys(['page_number', 'text_len', 'spans'])"
      ]
     },
     "execution_count": 9,
     "metadata": {},
     "output_type": "execute_result"
    }
   ],
   "source": [
    "pdf_to_dict['pages'][10].keys()"
   ]
  },
  {
   "cell_type": "code",
   "execution_count": 10,
   "id": "e79b4e03",
   "metadata": {},
   "outputs": [
    {
     "data": {
      "text/plain": [
       "{'text': 'turn, if policymakers are forward looking, they will also strive to accumulate ',\n",
       " 'bbox': [55.34649658203125,\n",
       "  220.0823211669922,\n",
       "  382.13665771484375,\n",
       "  230.0823211669922],\n",
       " 'start': 977,\n",
       " 'end': 1056}"
      ]
     },
     "execution_count": 10,
     "metadata": {},
     "output_type": "execute_result"
    }
   ],
   "source": [
    "pdf_to_dict['pages'][50]['spans'][17]"
   ]
  },
  {
   "cell_type": "code",
   "execution_count": 11,
   "id": "736163fa",
   "metadata": {},
   "outputs": [],
   "source": [
    "from metadata import DocumentMetadata, save_metadata"
   ]
  },
  {
   "cell_type": "code",
   "execution_count": 12,
   "id": "e628e026",
   "metadata": {},
   "outputs": [
    {
     "name": "stderr",
     "output_type": "stream",
     "text": [
      "2025-08-27 00:42:40,063 | INFO | metadata | metadata_saved | md5=d72966264bf4d6c78ea4d5f0e0f5fca6 title='Asymmetric Demography and the Global Economy' year=2015 type=book\n"
     ]
    }
   ],
   "source": [
    "# quick_save_meta.py (example usage)\n",
    "\n",
    "md = DocumentMetadata(\n",
    "    title=\"Asymmetric Demography and the Global Economy\",\n",
    "    authors=\"José María Fanelli (ed.)\",\n",
    "    year=2015,\n",
    "    doi=\"10.1057/9781137481436\",\n",
    "    doc_type=\"book\",\n",
    "    language=\"en\",\n",
    "    tags=[\"demographics\",\"macro\",\"policy\"],\n",
    "    summary=\"Explores demographic asymmetries across regions and their impact on growth and policy.\"\n",
    ")\n",
    "save_metadata(\n",
    "    md5=parsing_result.md5,\n",
    "    file_path=parsing_result.file_path,\n",
    "    file_name=parsing_result.file_name,\n",
    "    meta=md\n",
    ")"
   ]
  },
  {
   "cell_type": "code",
   "execution_count": null,
   "id": "d2a2de02",
   "metadata": {},
   "outputs": [],
   "source": []
  },
  {
   "cell_type": "code",
   "execution_count": 13,
   "id": "dffd498d",
   "metadata": {},
   "outputs": [],
   "source": [
    "from text_cleaning import clean_document_pages"
   ]
  },
  {
   "cell_type": "code",
   "execution_count": 14,
   "id": "1615efc9",
   "metadata": {},
   "outputs": [
    {
     "data": {
      "text/plain": [
       "'DEMOGRAPHIC ASYMMETRIES   \\n  37\\nwill be favorable and negative for the older countries. It is interesting to \\nnote the differences among the countries analyzed in the country studies of \\nthe book. Brazil and China are well ahead of India and South Africa in the \\ndemographic transition and, consequently, are expected to gain less from \\nthe FD. In comparing Brazil with China, in turn, we see that China’s drop \\nin the support ratio will be faster than in Brazil, thus accelerating its arrival \\nat the ageing state.\\nAs was mentioned earlier, Mason and Lee (2006a) sustain that the SD is \\nassociated with the fact that ageing populations have to provide for the old-\\nage consumption of older persons who typically have substantially reduced \\nlabor income. In some cases, societies seek to meet this challenge by relying \\non transfer systems (either public programs or family support systems), but \\nother societies increase their savings rates in order to accumulate wealth. In \\nturn, if policymakers are forward looking, they will also strive to accumulate \\nenough capital to support the social security system and accrue increased \\nhealth expenditures for the old. Hence, to the extent that the anticipated \\nlife-cycle deficits during the ageing stage are satisfied by relying on capital \\naccumulation, the result will be a permanent increase in the capital intensity \\nof the economy and a permanent rise in output per worker.\\nIs there evidence that the SD will not turn negative like the FD in the \\nfuture? Mason (2005) provides evidence that supports the hypothesis of a \\npermanent effect. Holding the transfer policy constant, so that the growth \\nrates of the capital and life-cycle wealth 4  are equal, the SD is calculated to \\nbe positive for all regions and substantially larger than the FD for the period \\nin question. In East and Southeast Asia, the SD was 1.31 percent per year \\nin additional income growth—the largest of any region. It was also large in \\nLatin America—1.08 percent per year.\\nThe assumption that capital accumulation and life-cycle wealth will move \\ntogether, however, is probably too strong. The simulations in chapter 3 show \\nthat large differences between the velocity of asset accumulation and the \\nvelocity of increased life-cycle wealth can arise in the case of the four coun-\\ntries analyzed. The methodology developed in chapter 2, in turn, shows why \\nthe inconsistencies between asset accumulation and the demand for life-cycle \\nwealth may give rise to unstable macroeconomic trajectories associated with \\nunsustainable public debt or persistent macroeconomic disequilibria, such as \\nexcessive current account surpluses that in the case of systemically important \\ncountries like China can contribute to feeding global imbalances. On the \\nother hand, Brazil’s analysis in this book indicates that a country can save too \\nlittle during the window of opportunity. Large-scale pay-as-you-go pensions \\nmay undermine savings and work incentives. In addition, financial markets \\nmay not be sufficiently developed and may not provide the savings vehicles \\n(mutual and pension funds, efficient professional investors) or the instru-\\nments to channel savings toward efficient investment in physical and human \\ncapital (Lee and Mason, 2010).\\nThe SD may be far more important than the FD because its effects are \\npermanent, but they are also more responsive to policies and the structural '"
      ]
     },
     "execution_count": 14,
     "metadata": {},
     "output_type": "execute_result"
    }
   ],
   "source": [
    "parsing_result.pages[50].text"
   ]
  },
  {
   "cell_type": "code",
   "execution_count": 15,
   "id": "d03d2ddb",
   "metadata": {},
   "outputs": [
    {
     "name": "stderr",
     "output_type": "stream",
     "text": [
      "2025-08-27 00:42:40,217 | INFO | text_cleaning | cleaned_pages_done | count=300 (minimal mode)\n",
      "2025-08-27 00:42:40,217 | INFO | text_cleaning | cleaned_pages_done | count=300 (minimal mode)\n"
     ]
    }
   ],
   "source": [
    "from src.ingestion.text_cleaning import clean_document_pages\n",
    "\n",
    "# Suppose 'parsed' is from pdf_parser.parse_pdf(...)\n",
    "page_texts = [(p.page_number, p.text) for p in parsing_result.pages]\n",
    "cleaned = clean_document_pages(page_texts)\n"
   ]
  },
  {
   "cell_type": "code",
   "execution_count": 16,
   "id": "9632541a",
   "metadata": {},
   "outputs": [
    {
     "data": {
      "text/plain": [
       "CleanedPage(page_number=51, raw_text='DEMOGRAPHIC ASYMMETRIES   \\n  37\\nwill be favorable and negative for the older countries. It is interesting to \\nnote the differences among the countries analyzed in the country studies of \\nthe book. Brazil and China are well ahead of India and South Africa in the \\ndemographic transition and, consequently, are expected to gain less from \\nthe FD. In comparing Brazil with China, in turn, we see that China’s drop \\nin the support ratio will be faster than in Brazil, thus accelerating its arrival \\nat the ageing state.\\nAs was mentioned earlier, Mason and Lee (2006a) sustain that the SD is \\nassociated with the fact that ageing populations have to provide for the old-\\nage consumption of older persons who typically have substantially reduced \\nlabor income. In some cases, societies seek to meet this challenge by relying \\non transfer systems (either public programs or family support systems), but \\nother societies increase their savings rates in order to accumulate wealth. In \\nturn, if policymakers are forward looking, they will also strive to accumulate \\nenough capital to support the social security system and accrue increased \\nhealth expenditures for the old. Hence, to the extent that the anticipated \\nlife-cycle deficits during the ageing stage are satisfied by relying on capital \\naccumulation, the result will be a permanent increase in the capital intensity \\nof the economy and a permanent rise in output per worker.\\nIs there evidence that the SD will not turn negative like the FD in the \\nfuture? Mason (2005) provides evidence that supports the hypothesis of a \\npermanent effect. Holding the transfer policy constant, so that the growth \\nrates of the capital and life-cycle wealth 4  are equal, the SD is calculated to \\nbe positive for all regions and substantially larger than the FD for the period \\nin question. In East and Southeast Asia, the SD was 1.31 percent per year \\nin additional income growth—the largest of any region. It was also large in \\nLatin America—1.08 percent per year.\\nThe assumption that capital accumulation and life-cycle wealth will move \\ntogether, however, is probably too strong. The simulations in chapter 3 show \\nthat large differences between the velocity of asset accumulation and the \\nvelocity of increased life-cycle wealth can arise in the case of the four coun-\\ntries analyzed. The methodology developed in chapter 2, in turn, shows why \\nthe inconsistencies between asset accumulation and the demand for life-cycle \\nwealth may give rise to unstable macroeconomic trajectories associated with \\nunsustainable public debt or persistent macroeconomic disequilibria, such as \\nexcessive current account surpluses that in the case of systemically important \\ncountries like China can contribute to feeding global imbalances. On the \\nother hand, Brazil’s analysis in this book indicates that a country can save too \\nlittle during the window of opportunity. Large-scale pay-as-you-go pensions \\nmay undermine savings and work incentives. In addition, financial markets \\nmay not be sufficiently developed and may not provide the savings vehicles \\n(mutual and pension funds, efficient professional investors) or the instru-\\nments to channel savings toward efficient investment in physical and human \\ncapital (Lee and Mason, 2010).\\nThe SD may be far more important than the FD because its effects are \\npermanent, but they are also more responsive to policies and the structural ', cleaned_text='DEMOGRAPHIC ASYMMETRIES 37 will be favorable and negative for the older countries. It is interesting to note the differences among the countries analyzed in the country studies of the book. Brazil and China are well ahead of India and South Africa in the demographic transition and, consequently, are expected to gain less from the FD. In comparing Brazil with China, in turn, we see that China’s drop in the support ratio will be faster than in Brazil, thus accelerating its arrival at the ageing state. As was mentioned earlier, Mason and Lee (2006a) sustain that the SD is associated with the fact that ageing populations have to provide for the oldage consumption of older persons who typically have substantially reduced labor income. In some cases, societies seek to meet this challenge by relying on transfer systems (either public programs or family support systems), but other societies increase their savings rates in order to accumulate wealth. In turn, if policymakers are forward looking, they will also strive to accumulate enough capital to support the social security system and accrue increased health expenditures for the old. Hence, to the extent that the anticipated life-cycle deficits during the ageing stage are satisfied by relying on capital accumulation, the result will be a permanent increase in the capital intensity of the economy and a permanent rise in output per worker. Is there evidence that the SD will not turn negative like the FD in the future? Mason (2005) provides evidence that supports the hypothesis of a permanent effect. Holding the transfer policy constant, so that the growth rates of the capital and life-cycle wealth 4 are equal, the SD is calculated to be positive for all regions and substantially larger than the FD for the period in question. In East and Southeast Asia, the SD was 1.31 percent per year in additional income growth—the largest of any region. It was also large in Latin America—1.08 percent per year. The assumption that capital accumulation and life-cycle wealth will move together, however, is probably too strong. The simulations in chapter 3 show that large differences between the velocity of asset accumulation and the velocity of increased life-cycle wealth can arise in the case of the four countries analyzed. The methodology developed in chapter 2, in turn, shows why the inconsistencies between asset accumulation and the demand for life-cycle wealth may give rise to unstable macroeconomic trajectories associated with unsustainable public debt or persistent macroeconomic disequilibria, such as excessive current account surpluses that in the case of systemically important countries like China can contribute to feeding global imbalances. On the other hand, Brazil’s analysis in this book indicates that a country can save too little during the window of opportunity. Large-scale pay-as-you-go pensions may undermine savings and work incentives. In addition, financial markets may not be sufficiently developed and may not provide the savings vehicles (mutual and pension funds, efficient professional investors) or the instruments to channel savings toward efficient investment in physical and human capital (Lee and Mason, 2010). The SD may be far more important than the FD because its effects are permanent, but they are also more responsive to policies and the structural', removed_lines=[], kept_line_indices=[])"
      ]
     },
     "execution_count": 16,
     "metadata": {},
     "output_type": "execute_result"
    }
   ],
   "source": [
    "cleaned.pages[50]#.page_number"
   ]
  },
  {
   "cell_type": "code",
   "execution_count": 17,
   "id": "32d2d849",
   "metadata": {},
   "outputs": [
    {
     "data": {
      "text/plain": [
       "'DEMOGRAPHIC ASYMMETRIES   \\n  37\\nwill be favorable and negative for the older countries. It is interesting to \\nnote the differences among the countries analyzed in the country studies of \\nthe book. Brazil and China are well ahead of India and South Africa in the \\ndemographic transition and, consequently, are expected to gain less from \\nthe FD. In comparing Brazil with China, in turn, we see that China’s drop \\nin the support ratio will be faster than in Brazil, thus accelerating its arrival \\nat the ageing state.\\nAs was mentioned earlier, Mason and Lee (2006a) sustain that the SD is \\nassociated with the fact that ageing populations have to provide for the old-\\nage consumption of older persons who typically have substantially reduced \\nlabor income. In some cases, societies seek to meet this challenge by relying \\non transfer systems (either public programs or family support systems), but \\nother societies increase their savings rates in order to accumulate wealth. In \\nturn, if policymakers are forward looking, they will also strive to accumulate \\nenough capital to support the social security system and accrue increased \\nhealth expenditures for the old. Hence, to the extent that the anticipated \\nlife-cycle deficits during the ageing stage are satisfied by relying on capital \\naccumulation, the result will be a permanent increase in the capital intensity \\nof the economy and a permanent rise in output per worker.\\nIs there evidence that the SD will not turn negative like the FD in the \\nfuture? Mason (2005) provides evidence that supports the hypothesis of a \\npermanent effect. Holding the transfer policy constant, so that the growth \\nrates of the capital and life-cycle wealth 4  are equal, the SD is calculated to \\nbe positive for all regions and substantially larger than the FD for the period \\nin question. In East and Southeast Asia, the SD was 1.31 percent per year \\nin additional income growth—the largest of any region. It was also large in \\nLatin America—1.08 percent per year.\\nThe assumption that capital accumulation and life-cycle wealth will move \\ntogether, however, is probably too strong. The simulations in chapter 3 show \\nthat large differences between the velocity of asset accumulation and the \\nvelocity of increased life-cycle wealth can arise in the case of the four coun-\\ntries analyzed. The methodology developed in chapter 2, in turn, shows why \\nthe inconsistencies between asset accumulation and the demand for life-cycle \\nwealth may give rise to unstable macroeconomic trajectories associated with \\nunsustainable public debt or persistent macroeconomic disequilibria, such as \\nexcessive current account surpluses that in the case of systemically important \\ncountries like China can contribute to feeding global imbalances. On the \\nother hand, Brazil’s analysis in this book indicates that a country can save too \\nlittle during the window of opportunity. Large-scale pay-as-you-go pensions \\nmay undermine savings and work incentives. In addition, financial markets \\nmay not be sufficiently developed and may not provide the savings vehicles \\n(mutual and pension funds, efficient professional investors) or the instru-\\nments to channel savings toward efficient investment in physical and human \\ncapital (Lee and Mason, 2010).\\nThe SD may be far more important than the FD because its effects are \\npermanent, but they are also more responsive to policies and the structural '"
      ]
     },
     "execution_count": 17,
     "metadata": {},
     "output_type": "execute_result"
    }
   ],
   "source": [
    "cleaned.pages[50].raw_text"
   ]
  },
  {
   "cell_type": "code",
   "execution_count": 18,
   "id": "73a61e96",
   "metadata": {},
   "outputs": [
    {
     "data": {
      "text/plain": [
       "'DEMOGRAPHIC ASYMMETRIES 37 will be favorable and negative for the older countries. It is interesting to note the differences among the countries analyzed in the country studies of the book. Brazil and China are well ahead of India and South Africa in the demographic transition and, consequently, are expected to gain less from the FD. In comparing Brazil with China, in turn, we see that China’s drop in the support ratio will be faster than in Brazil, thus accelerating its arrival at the ageing state. As was mentioned earlier, Mason and Lee (2006a) sustain that the SD is associated with the fact that ageing populations have to provide for the oldage consumption of older persons who typically have substantially reduced labor income. In some cases, societies seek to meet this challenge by relying on transfer systems (either public programs or family support systems), but other societies increase their savings rates in order to accumulate wealth. In turn, if policymakers are forward looking, they will also strive to accumulate enough capital to support the social security system and accrue increased health expenditures for the old. Hence, to the extent that the anticipated life-cycle deficits during the ageing stage are satisfied by relying on capital accumulation, the result will be a permanent increase in the capital intensity of the economy and a permanent rise in output per worker. Is there evidence that the SD will not turn negative like the FD in the future? Mason (2005) provides evidence that supports the hypothesis of a permanent effect. Holding the transfer policy constant, so that the growth rates of the capital and life-cycle wealth 4 are equal, the SD is calculated to be positive for all regions and substantially larger than the FD for the period in question. In East and Southeast Asia, the SD was 1.31 percent per year in additional income growth—the largest of any region. It was also large in Latin America—1.08 percent per year. The assumption that capital accumulation and life-cycle wealth will move together, however, is probably too strong. The simulations in chapter 3 show that large differences between the velocity of asset accumulation and the velocity of increased life-cycle wealth can arise in the case of the four countries analyzed. The methodology developed in chapter 2, in turn, shows why the inconsistencies between asset accumulation and the demand for life-cycle wealth may give rise to unstable macroeconomic trajectories associated with unsustainable public debt or persistent macroeconomic disequilibria, such as excessive current account surpluses that in the case of systemically important countries like China can contribute to feeding global imbalances. On the other hand, Brazil’s analysis in this book indicates that a country can save too little during the window of opportunity. Large-scale pay-as-you-go pensions may undermine savings and work incentives. In addition, financial markets may not be sufficiently developed and may not provide the savings vehicles (mutual and pension funds, efficient professional investors) or the instruments to channel savings toward efficient investment in physical and human capital (Lee and Mason, 2010). The SD may be far more important than the FD because its effects are permanent, but they are also more responsive to policies and the structural'"
      ]
     },
     "execution_count": 18,
     "metadata": {},
     "output_type": "execute_result"
    }
   ],
   "source": [
    "cleaned.pages[50].cleaned_text"
   ]
  },
  {
   "cell_type": "code",
   "execution_count": null,
   "id": "ffecc834",
   "metadata": {},
   "outputs": [],
   "source": []
  },
  {
   "cell_type": "code",
   "execution_count": 19,
   "id": "f083303b",
   "metadata": {},
   "outputs": [],
   "source": [
    "from src.ingestion.chunking_stream import build_chunks_streaming\n",
    "from utils.paths import indexes_dir\n",
    "\n",
    "doc_id = parsing_result.md5\n",
    "cleaned_pages_iter = ((cp.page_number, cp.cleaned_text) for cp in cleaned.pages)  # generator!\n",
    "\n"
   ]
  },
  {
   "cell_type": "code",
   "execution_count": 20,
   "id": "2db74d06",
   "metadata": {},
   "outputs": [
    {
     "name": "stdout",
     "output_type": "stream",
     "text": [
      "  0.0% Processed page 1\n",
      "  0.0% Processed page 2\n",
      "  0.0% Processed page 3\n",
      "  0.0% Processed page 4\n",
      "  0.0% Processed page 5\n",
      "  0.0% Processed page 6\n",
      "  0.0% Processed page 7\n",
      "  0.0% Processed page 8\n",
      "  0.0% Processed page 9\n",
      "  0.0% Processed page 10\n",
      "  0.0% Processed page 11\n",
      "  0.0% Processed page 12\n",
      "  0.0% Processed page 13\n",
      "  0.0% Processed page 14\n",
      "  0.0% Processed page 15\n",
      "  0.0% Processed page 16\n",
      "  0.0% Processed page 17\n",
      "  0.0% Processed page 18\n",
      "  0.0% Processed page 19\n",
      "  0.0% Processed page 20\n",
      "  0.0% Processed page 21\n",
      "  0.0% Processed page 22\n",
      "  0.0% Processed page 23\n",
      "  0.0% Processed page 24\n",
      "  0.0% Processed page 25\n",
      "  0.0% Processed page 26\n",
      "  0.0% Processed page 27\n",
      "  0.0% Processed page 28\n",
      "  0.0% Processed page 29\n",
      "  0.0% Processed page 30\n",
      "  0.0% Processed page 31\n",
      "  0.0% Processed page 32\n",
      "  0.0% Processed page 33\n",
      "  0.0% Processed page 34\n",
      "  0.0% Processed page 35\n",
      "  0.0% Processed page 36\n",
      "  0.0% Processed page 37\n",
      "  0.0% Processed page 38\n",
      "  0.0% Processed page 39\n",
      "  0.0% Processed page 40\n",
      "  0.0% Processed page 41\n",
      "  0.0% Processed page 42\n",
      "  0.0% Processed page 43\n",
      "  0.0% Processed page 44\n",
      "  0.0% Processed page 45\n",
      "  0.0% Processed page 46\n",
      "  0.0% Processed page 47\n",
      "  0.0% Processed page 48\n",
      "  0.0% Processed page 49\n",
      "  0.0% Processed page 50\n",
      "  0.0% Processed page 51\n",
      "  0.0% Processed page 52\n",
      "  0.0% Processed page 53\n",
      "  0.0% Processed page 54\n",
      "  0.0% Processed page 55\n",
      "  0.0% Processed page 56\n",
      "  0.0% Processed page 57\n",
      "  0.0% Processed page 58\n",
      "  0.0% Processed page 59\n",
      "  0.0% Processed page 60\n",
      "  0.0% Processed page 61\n",
      "  0.0% Processed page 62\n",
      "  0.0% Processed page 63\n",
      "  0.0% Processed page 64\n",
      "  0.0% Processed page 65\n",
      "  0.0% Processed page 66\n",
      "  0.0% Processed page 67\n",
      "  0.0% Processed page 68\n",
      "  0.0% Processed page 69\n",
      "  0.0% Processed page 70\n",
      "  0.0% Processed page 71\n",
      "  0.0% Processed page 72\n",
      "  0.0% Processed page 73\n",
      "  0.0% Processed page 74\n",
      "  0.0% Processed page 75\n",
      "  0.0% Processed page 76\n",
      "  0.0% Processed page 77\n",
      "  0.0% Processed page 78\n",
      "  0.0% Processed page 79\n",
      "  0.0% Processed page 80\n",
      "  0.0% Processed page 81\n",
      "  0.0% Processed page 82\n",
      "  0.0% Processed page 83\n",
      "  0.0% Processed page 84\n",
      "  0.0% Processed page 85\n",
      "  0.0% Processed page 86\n",
      "  0.0% Processed page 87\n",
      "  0.0% Processed page 88\n",
      "  0.0% Processed page 89\n",
      "  0.0% Processed page 90\n",
      "  0.0% Processed page 91\n",
      "  0.0% Processed page 92\n",
      "  0.0% Processed page 93\n",
      "  0.0% Processed page 94\n",
      "  0.0% Processed page 95\n",
      "  0.0% Processed page 96\n",
      "  0.0% Processed page 97\n",
      "  0.0% Processed page 98\n",
      "  0.0% Processed page 99\n",
      "  0.0% Processed page 100\n",
      "  0.0% Processed page 101\n",
      "  0.0% Processed page 102\n",
      "  0.0% Processed page 103\n",
      "  0.0% Processed page 104\n",
      "  0.0% Processed page 105\n",
      "  0.0% Processed page 106\n",
      "  0.0% Processed page 107\n",
      "  0.0% Processed page 108\n",
      "  0.0% Processed page 109\n",
      "  0.0% Processed page 110\n",
      "  0.0% Processed page 111\n",
      "  0.0% Processed page 112\n",
      "  0.0% Processed page 113\n",
      "  0.0% Processed page 114\n",
      "  0.0% Processed page 115\n",
      "  0.0% Processed page 116\n",
      "  0.0% Processed page 117\n",
      "  0.0% Processed page 118\n",
      "  0.0% Processed page 119\n",
      "  0.0% Processed page 120\n",
      "  0.0% Processed page 121\n",
      "  0.0% Processed page 122\n",
      "  0.0% Processed page 123\n",
      "  0.0% Processed page 124\n",
      "  0.0% Processed page 125\n",
      "  0.0% Processed page 126\n",
      "  0.0% Processed page 127\n",
      "  0.0% Processed page 128\n",
      "  0.0% Processed page 129\n",
      "  0.0% Processed page 130\n",
      "  0.0% Processed page 131\n",
      "  0.0% Processed page 132\n",
      "  0.0% Processed page 133\n",
      "  0.0% Processed page 134\n",
      "  0.0% Processed page 135\n",
      "  0.0% Processed page 136\n",
      "  0.0% Processed page 137\n",
      "  0.0% Processed page 138\n",
      "  0.0% Processed page 139\n",
      "  0.0% Processed page 140\n",
      "  0.0% Processed page 141\n",
      "  0.0% Processed page 142\n",
      "  0.0% Processed page 143\n",
      "  0.0% Processed page 144\n",
      "  0.0% Processed page 145\n",
      "  0.0% Processed page 146\n",
      "  0.0% Processed page 147\n",
      "  0.0% Processed page 148\n",
      "  0.0% Processed page 149\n",
      "  0.0% Processed page 150\n",
      "  0.0% Processed page 151\n",
      "  0.0% Processed page 152\n",
      "  0.0% Processed page 153\n",
      "  0.0% Processed page 154\n",
      "  0.0% Processed page 155\n",
      "  0.0% Processed page 156\n",
      "  0.0% Processed page 157\n",
      "  0.0% Processed page 158\n",
      "  0.0% Processed page 159\n",
      "  0.0% Processed page 160\n",
      "  0.0% Processed page 161\n",
      "  0.0% Processed page 162\n",
      "  0.0% Processed page 163\n",
      "  0.0% Processed page 164\n",
      "  0.0% Processed page 165\n",
      "  0.0% Processed page 166\n",
      "  0.0% Processed page 167\n",
      "  0.0% Processed page 168\n",
      "  0.0% Processed page 169\n",
      "  0.0% Processed page 170\n",
      "  0.0% Processed page 171\n",
      "  0.0% Processed page 172\n",
      "  0.0% Processed page 173\n",
      "  0.0% Processed page 174\n",
      "  0.0% Processed page 175\n",
      "  0.0% Processed page 176\n",
      "  0.0% Processed page 177\n",
      "  0.0% Processed page 178\n",
      "  0.0% Processed page 179\n",
      "  0.0% Processed page 180\n",
      "  0.0% Processed page 181\n",
      "  0.0% Processed page 182\n",
      "  0.0% Processed page 183\n",
      "  0.0% Processed page 184\n",
      "  0.0% Processed page 185\n",
      "  0.0% Processed page 186\n",
      "  0.0% Processed page 187\n",
      "  0.0% Processed page 188\n",
      "  0.0% Processed page 189\n",
      "  0.0% Processed page 190\n",
      "  0.0% Processed page 191\n",
      "  0.0% Processed page 192\n",
      "  0.0% Processed page 193\n",
      "  0.0% Processed page 194\n",
      "  0.0% Processed page 195\n",
      "  0.0% Processed page 196\n",
      "  0.0% Processed page 197\n",
      "  0.0% Processed page 198\n",
      "  0.0% Processed page 199\n",
      "  0.0% Processed page 200\n",
      "  0.0% Processed page 201\n",
      "  0.0% Processed page 202\n",
      "  0.0% Processed page 203\n",
      "  0.0% Processed page 204\n",
      "  0.0% Processed page 205\n",
      "  0.0% Processed page 206\n",
      "  0.0% Processed page 207\n",
      "  0.0% Processed page 208\n",
      "  0.0% Processed page 209\n",
      "  0.0% Processed page 210\n",
      "  0.0% Processed page 211\n",
      "  0.0% Processed page 212\n",
      "  0.0% Processed page 213\n",
      "  0.0% Processed page 214\n",
      "  0.0% Processed page 215\n",
      "  0.0% Processed page 216\n",
      "  0.0% Processed page 217\n",
      "  0.0% Processed page 218\n",
      "  0.0% Processed page 219\n",
      "  0.0% Processed page 220\n",
      "  0.0% Processed page 221\n",
      "  0.0% Processed page 222\n",
      "  0.0% Processed page 223\n",
      "  0.0% Processed page 224\n",
      "  0.0% Processed page 225\n",
      "  0.0% Processed page 226\n",
      "  0.0% Processed page 227\n",
      "  0.0% Processed page 228\n",
      "  0.0% Processed page 229\n",
      "  0.0% Processed page 230\n",
      "  0.0% Processed page 231\n",
      "  0.0% Processed page 232\n",
      "  0.0% Processed page 233\n",
      "  0.0% Processed page 234\n",
      "  0.0% Processed page 235\n",
      "  0.0% Processed page 236\n",
      "  0.0% Processed page 237\n",
      "  0.0% Processed page 238\n",
      "  0.0% Processed page 239\n",
      "  0.0% Processed page 240\n",
      "  0.0% Processed page 241\n",
      "  0.0% Processed page 242\n",
      "  0.0% Processed page 243\n",
      "  0.0% Processed page 244\n",
      "  0.0% Processed page 245\n",
      "  0.0% Processed page 246\n",
      "  0.0% Processed page 247\n",
      "  0.0% Processed page 248\n",
      "  0.0% Processed page 249\n",
      "  0.0% Processed page 250\n",
      "  0.0% Processed page 251\n",
      "  0.0% Processed page 252\n",
      "  0.0% Processed page 253\n",
      "  0.0% Processed page 254\n",
      "  0.0% Processed page 255\n",
      "  0.0% Processed page 256\n",
      "  0.0% Processed page 257\n",
      "  0.0% Processed page 258\n",
      "  0.0% Processed page 259\n",
      "  0.0% Processed page 260\n",
      "  0.0% Processed page 261\n",
      "  0.0% Processed page 262\n",
      "  0.0% Processed page 263\n",
      "  0.0% Processed page 264\n",
      "  0.0% Processed page 265\n",
      "  0.0% Processed page 266\n",
      "  0.0% Processed page 267\n",
      "  0.0% Processed page 268\n",
      "  0.0% Processed page 269\n",
      "  0.0% Processed page 270\n",
      "  0.0% Processed page 271\n",
      "  0.0% Processed page 272\n",
      "  0.0% Processed page 273\n",
      "  0.0% Processed page 274\n",
      "  0.0% Processed page 275\n",
      "  0.0% Processed page 276\n",
      "  0.0% Processed page 277\n",
      "  0.0% Processed page 278\n",
      "  0.0% Processed page 279\n",
      "  0.0% Processed page 280\n",
      "  0.0% Processed page 281\n",
      "  0.0% Processed page 282\n",
      "  0.0% Processed page 283\n",
      "  0.0% Processed page 284\n",
      "  0.0% Processed page 285\n",
      "  0.0% Processed page 286\n",
      "  0.0% Processed page 287\n",
      "  0.0% Processed page 288\n",
      "  0.0% Processed page 289\n",
      "  0.0% Processed page 290\n",
      "  0.0% Processed page 291\n",
      "  0.0% Processed page 292\n",
      "  0.0% Processed page 293\n",
      "  0.0% Processed page 294\n",
      "  0.0% Processed page 295\n",
      "  0.0% Processed page 296\n",
      "  0.0% Processed page 297\n",
      "  0.0% Processed page 298\n",
      "  0.0% Processed page 299\n",
      "  0.0% Processed page 300\n",
      "100.0% Chunking complete: 288 chunks -> F:\\Semantic_search_MVP\\data\\indexes\\chunks\\d72966264bf4d6c78ea4d5f0e0f5fca6.jsonl\n"
     ]
    },
    {
     "data": {
      "text/plain": [
       "WindowsPath('F:/Semantic_search_MVP/data/indexes/chunks/d72966264bf4d6c78ea4d5f0e0f5fca6.jsonl')"
      ]
     },
     "execution_count": 20,
     "metadata": {},
     "output_type": "execute_result"
    }
   ],
   "source": [
    "out_path = indexes_dir() / \"chunks\" / f\"{doc_id}.jsonl\"\n",
    "build_chunks_streaming(\n",
    "    doc_id=doc_id,\n",
    "    cleaned_pages_iter=cleaned_pages_iter,\n",
    "    out_path=out_path,\n",
    "    target_tokens=1000,\n",
    "    overlap_tokens=180,\n",
    "    min_block_len_chars=20,\n",
    ")"
   ]
  },
  {
   "cell_type": "code",
   "execution_count": null,
   "id": "aa44237f",
   "metadata": {},
   "outputs": [],
   "source": []
  }
 ],
 "metadata": {
  "kernelspec": {
   "display_name": ".venv",
   "language": "python",
   "name": "python3"
  },
  "language_info": {
   "codemirror_mode": {
    "name": "ipython",
    "version": 3
   },
   "file_extension": ".py",
   "mimetype": "text/x-python",
   "name": "python",
   "nbconvert_exporter": "python",
   "pygments_lexer": "ipython3",
   "version": "3.11.0"
  }
 },
 "nbformat": 4,
 "nbformat_minor": 5
}
