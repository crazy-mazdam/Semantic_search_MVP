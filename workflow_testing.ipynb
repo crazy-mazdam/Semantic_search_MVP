{
 "cells": [
  {
   "cell_type": "code",
   "execution_count": 19,
   "id": "f8e77d57",
   "metadata": {},
   "outputs": [],
   "source": [
    "import os\n",
    "import sys\n",
    "\n",
    "sys.path.append(r\"f:\\Semantic_search_MVP\\src\\ingestion\")\n",
    "sys.path.append(r\"f:\\Semantic_search_MVP\\src\")\n"
   ]
  },
  {
   "cell_type": "code",
   "execution_count": 20,
   "id": "e028d929",
   "metadata": {},
   "outputs": [],
   "source": [
    "from pdf_parser import parse_pdf, parsed_document_to_dict"
   ]
  },
  {
   "cell_type": "code",
   "execution_count": 21,
   "id": "e151e555",
   "metadata": {},
   "outputs": [],
   "source": [
    "pdf_book_path = r\"F:\\Semantic_search_MVP\\data\\pdfs\\book - Asymmetric Demography and global economy - 2015.pdf\"\n",
    "\n",
    "#pdf_book_path = r\"F:\\Semantic_search_MVP\\data\\pdfs\\Book - Macroeconomic Consequences of Demographic Change _ Modeling.pdf\""
   ]
  },
  {
   "cell_type": "code",
   "execution_count": 22,
   "id": "022c549b",
   "metadata": {},
   "outputs": [
    {
     "name": "stderr",
     "output_type": "stream",
     "text": [
      "2025-08-27 00:17:05,273 | INFO | pdf_parser | Parsed PDF: name=book - Asymmetric Demography and global economy - 2015.pdf pages=300 size=3364789 md5=d72966264bf4d6c78ea4d5f0e0f5fca6\n"
     ]
    }
   ],
   "source": [
    "parsing_result = parse_pdf(pdf_book_path)"
   ]
  },
  {
   "cell_type": "code",
   "execution_count": 23,
   "id": "38d99141",
   "metadata": {},
   "outputs": [
    {
     "data": {
      "text/plain": [
       "'book - Asymmetric Demography and global economy - 2015.pdf'"
      ]
     },
     "execution_count": 23,
     "metadata": {},
     "output_type": "execute_result"
    }
   ],
   "source": [
    "parsing_result.file_name"
   ]
  },
  {
   "cell_type": "code",
   "execution_count": 24,
   "id": "0a266c05",
   "metadata": {},
   "outputs": [
    {
     "data": {
      "text/plain": [
       "'x   \\n  FIGURES\\n 3.9  Demography, the current account, and investment  \\n(as % of GDP) \\n103\\n4.A1 Simulation exercises \\n126\\n 5.1 US current account (left) and the real exchange rate (right) \\n130\\n 5.2  Foreign exchange reserves by level of development  \\n(% of GDP) \\n132\\n 5.3 Current account balances (billion US dollars) \\n138\\n 6.1  Demographic trends in Brazil (solid line) and OECD  \\n(dotted line) \\n168\\n 6.2  Baseline closed scenario—Brazil (solid line) and OECD  \\n(dotted line) \\n169\\n 6.3  Baseline closed scenario—Brazil (solid and dashed lines)  \\nand OECD (dotted and dash-dot lines)—demographic  \\ndividends \\n170\\n 6.4  Baseline closed scenario—Brazil (solid and dashed lines) and  \\nOECD (dotted and dash-dot lines)—wealth decomposition \\n171\\n 6.5  Brazil Baseline—sudden opening (solid line) × Brazil closed  \\n(dotted line) \\n172\\n 6.6  Brazil Baseline—sudden opening (solid and dashed lines) ×  \\nBrazil closed (dotted and dash-dot lines)—demographic  \\ndividends \\n173\\n 6.7  Brazil Baseline—sudden opening (solid and dashed lines) ×  \\nclosed (dotted and dash-dot lines)—wealth decomposition \\n173\\n 6.8  Brazil closed—bold reform (solid line) × baseline (dotted line) \\n175\\n 6.9  Brazil closed—bold reform (solid and dashed lines) ×  \\nbaseline (dotted and dash-dot lines)—demographic  \\ndividends \\n175\\n6.10  Brazil closed—bold reform (solid and dashed lines) × baseline  \\n(dotted and dash-dot lines)—wealth decomposition \\n176\\n6.11  Brazil—Bold reform with sudden opening (solid line) ×  \\nBaseline closed (dotted line) \\n177\\n6.12  Brazil—bold reform with sudden opening (solid and dashed  \\nlines) × baseline closed (dotted and dash-dot lines)— \\ndemographic dividends \\n177\\n6.13  Brazil—bold reform with sudden opening (solid and dashed  \\nlines) × baseline closed (dotted and dash-dot lines)—wealth  \\ndecomposition \\n178\\n6.14  Brazil closed—gradual reform (solid line) × baseline  \\n(dotted line) \\n179\\n6.15  Brazil closed—gradual reform (solid and dashed lines) ×  \\nbaseline (dotted dash-dot lines)—demographic dividends \\n180\\n6.16  Brazil closed—gradual reform (solid and dashed lines) ×  \\nbaseline (dotted and dash-dot lines)—wealth decomposition \\n180\\n6.17  Brazil—gradual reform with sudden opening (solid line) ×  \\nbaseline closed (dotted line) \\n181'"
      ]
     },
     "execution_count": 24,
     "metadata": {},
     "output_type": "execute_result"
    }
   ],
   "source": [
    "parsing_result.pages[10].text"
   ]
  },
  {
   "cell_type": "code",
   "execution_count": 25,
   "id": "cc58c56b",
   "metadata": {},
   "outputs": [
    {
     "data": {
      "text/plain": [
       "'DEMOGRAPHIC ASYMMETRIES   \\n  37\\nwill be favorable and negative for the older countries. It is interesting to \\nnote the differences among the countries analyzed in the country studies of \\nthe book. Brazil and China are well ahead of India and South Africa in the \\ndemographic transition and, consequently, are expected to gain less from \\nthe FD. In comparing Brazil with China, in turn, we see that China’s drop \\nin the support ratio will be faster than in Brazil, thus accelerating its arrival \\nat the ageing state.\\nAs was mentioned earlier, Mason and Lee (2006a) sustain that the SD is \\nassociated with the fact that ageing populations have to provide for the old-\\nage consumption of older persons who typically have substantially reduced \\nlabor income. In some cases, societies seek to meet this challenge by relying \\non transfer systems (either public programs or family support systems), but \\nother societies increase their savings rates in order to accumulate wealth. In \\nturn, if policymakers are forward looking, they will also strive to accumulate \\nenough capital to support the social security system and accrue increased \\nhealth expenditures for the old. Hence, to the extent that the anticipated \\nlife-cycle deficits during the ageing stage are satisfied by relying on capital \\naccumulation, the result will be a permanent increase in the capital intensity \\nof the economy and a permanent rise in output per worker.\\nIs there evidence that the SD will not turn negative like the FD in the \\nfuture? Mason (2005) provides evidence that supports the hypothesis of a \\npermanent effect. Holding the transfer policy constant, so that the growth \\nrates of the capital and life-cycle wealth 4  are equal, the SD is calculated to \\nbe positive for all regions and substantially larger than the FD for the period \\nin question. In East and Southeast Asia, the SD was 1.31 percent per year \\nin additional income growth—the largest of any region. It was also large in \\nLatin America—1.08 percent per year.\\nThe assumption that capital accumulation and life-cycle wealth will move \\ntogether, however, is probably too strong. The simulations in chapter 3 show \\nthat large differences between the velocity of asset accumulation and the \\nvelocity of increased life-cycle wealth can arise in the case of the four coun-\\ntries analyzed. The methodology developed in chapter 2, in turn, shows why \\nthe inconsistencies between asset accumulation and the demand for life-cycle \\nwealth may give rise to unstable macroeconomic trajectories associated with \\nunsustainable public debt or persistent macroeconomic disequilibria, such as \\nexcessive current account surpluses that in the case of systemically important \\ncountries like China can contribute to feeding global imbalances. On the \\nother hand, Brazil’s analysis in this book indicates that a country can save too \\nlittle during the window of opportunity. Large-scale pay-as-you-go pensions \\nmay undermine savings and work incentives. In addition, financial markets \\nmay not be sufficiently developed and may not provide the savings vehicles \\n(mutual and pension funds, efficient professional investors) or the instru-\\nments to channel savings toward efficient investment in physical and human \\ncapital (Lee and Mason, 2010).\\nThe SD may be far more important than the FD because its effects are \\npermanent, but they are also more responsive to policies and the structural '"
      ]
     },
     "execution_count": 25,
     "metadata": {},
     "output_type": "execute_result"
    }
   ],
   "source": [
    "parsing_result.pages[50].text"
   ]
  },
  {
   "cell_type": "code",
   "execution_count": 26,
   "id": "5ded9ed0",
   "metadata": {},
   "outputs": [],
   "source": [
    "pdf_to_dict = parsed_document_to_dict(parsing_result)"
   ]
  },
  {
   "cell_type": "code",
   "execution_count": 27,
   "id": "7765da01",
   "metadata": {},
   "outputs": [
    {
     "data": {
      "text/plain": [
       "dict_keys(['page_number', 'text_len', 'spans'])"
      ]
     },
     "execution_count": 27,
     "metadata": {},
     "output_type": "execute_result"
    }
   ],
   "source": [
    "pdf_to_dict['pages'][10].keys()"
   ]
  },
  {
   "cell_type": "code",
   "execution_count": 28,
   "id": "e79b4e03",
   "metadata": {},
   "outputs": [
    {
     "data": {
      "text/plain": [
       "{'text': 'turn, if policymakers are forward looking, they will also strive to accumulate ',\n",
       " 'bbox': [55.34649658203125,\n",
       "  220.0823211669922,\n",
       "  382.13665771484375,\n",
       "  230.0823211669922],\n",
       " 'start': 977,\n",
       " 'end': 1056}"
      ]
     },
     "execution_count": 28,
     "metadata": {},
     "output_type": "execute_result"
    }
   ],
   "source": [
    "pdf_to_dict['pages'][50]['spans'][17]"
   ]
  },
  {
   "cell_type": "code",
   "execution_count": 29,
   "id": "736163fa",
   "metadata": {},
   "outputs": [],
   "source": [
    "from metadata import DocumentMetadata, save_metadata"
   ]
  },
  {
   "cell_type": "code",
   "execution_count": 30,
   "id": "e628e026",
   "metadata": {},
   "outputs": [
    {
     "name": "stderr",
     "output_type": "stream",
     "text": [
      "2025-08-27 00:17:05,369 | INFO | metadata | metadata_saved | md5=d72966264bf4d6c78ea4d5f0e0f5fca6 title='Asymmetric Demography and the Global Economy' year=2015 type=book\n"
     ]
    }
   ],
   "source": [
    "# quick_save_meta.py (example usage)\n",
    "\n",
    "md = DocumentMetadata(\n",
    "    title=\"Asymmetric Demography and the Global Economy\",\n",
    "    authors=\"José María Fanelli (ed.)\",\n",
    "    year=2015,\n",
    "    doi=\"10.1057/9781137481436\",\n",
    "    doc_type=\"book\",\n",
    "    language=\"en\",\n",
    "    tags=[\"demographics\",\"macro\",\"policy\"],\n",
    "    summary=\"Explores demographic asymmetries across regions and their impact on growth and policy.\"\n",
    ")\n",
    "save_metadata(\n",
    "    md5=parsing_result.md5,\n",
    "    file_path=parsing_result.file_path,\n",
    "    file_name=parsing_result.file_name,\n",
    "    meta=md\n",
    ")"
   ]
  },
  {
   "cell_type": "code",
   "execution_count": null,
   "id": "d2a2de02",
   "metadata": {},
   "outputs": [],
   "source": []
  },
  {
   "cell_type": "code",
   "execution_count": 31,
   "id": "dffd498d",
   "metadata": {},
   "outputs": [],
   "source": [
    "from text_cleaning import clean_document_pages"
   ]
  },
  {
   "cell_type": "code",
   "execution_count": 32,
   "id": "1615efc9",
   "metadata": {},
   "outputs": [
    {
     "data": {
      "text/plain": [
       "'DEMOGRAPHIC ASYMMETRIES   \\n  37\\nwill be favorable and negative for the older countries. It is interesting to \\nnote the differences among the countries analyzed in the country studies of \\nthe book. Brazil and China are well ahead of India and South Africa in the \\ndemographic transition and, consequently, are expected to gain less from \\nthe FD. In comparing Brazil with China, in turn, we see that China’s drop \\nin the support ratio will be faster than in Brazil, thus accelerating its arrival \\nat the ageing state.\\nAs was mentioned earlier, Mason and Lee (2006a) sustain that the SD is \\nassociated with the fact that ageing populations have to provide for the old-\\nage consumption of older persons who typically have substantially reduced \\nlabor income. In some cases, societies seek to meet this challenge by relying \\non transfer systems (either public programs or family support systems), but \\nother societies increase their savings rates in order to accumulate wealth. In \\nturn, if policymakers are forward looking, they will also strive to accumulate \\nenough capital to support the social security system and accrue increased \\nhealth expenditures for the old. Hence, to the extent that the anticipated \\nlife-cycle deficits during the ageing stage are satisfied by relying on capital \\naccumulation, the result will be a permanent increase in the capital intensity \\nof the economy and a permanent rise in output per worker.\\nIs there evidence that the SD will not turn negative like the FD in the \\nfuture? Mason (2005) provides evidence that supports the hypothesis of a \\npermanent effect. Holding the transfer policy constant, so that the growth \\nrates of the capital and life-cycle wealth 4  are equal, the SD is calculated to \\nbe positive for all regions and substantially larger than the FD for the period \\nin question. In East and Southeast Asia, the SD was 1.31 percent per year \\nin additional income growth—the largest of any region. It was also large in \\nLatin America—1.08 percent per year.\\nThe assumption that capital accumulation and life-cycle wealth will move \\ntogether, however, is probably too strong. The simulations in chapter 3 show \\nthat large differences between the velocity of asset accumulation and the \\nvelocity of increased life-cycle wealth can arise in the case of the four coun-\\ntries analyzed. The methodology developed in chapter 2, in turn, shows why \\nthe inconsistencies between asset accumulation and the demand for life-cycle \\nwealth may give rise to unstable macroeconomic trajectories associated with \\nunsustainable public debt or persistent macroeconomic disequilibria, such as \\nexcessive current account surpluses that in the case of systemically important \\ncountries like China can contribute to feeding global imbalances. On the \\nother hand, Brazil’s analysis in this book indicates that a country can save too \\nlittle during the window of opportunity. Large-scale pay-as-you-go pensions \\nmay undermine savings and work incentives. In addition, financial markets \\nmay not be sufficiently developed and may not provide the savings vehicles \\n(mutual and pension funds, efficient professional investors) or the instru-\\nments to channel savings toward efficient investment in physical and human \\ncapital (Lee and Mason, 2010).\\nThe SD may be far more important than the FD because its effects are \\npermanent, but they are also more responsive to policies and the structural '"
      ]
     },
     "execution_count": 32,
     "metadata": {},
     "output_type": "execute_result"
    }
   ],
   "source": [
    "parsing_result.pages[50].text"
   ]
  },
  {
   "cell_type": "code",
   "execution_count": 33,
   "id": "d03d2ddb",
   "metadata": {},
   "outputs": [
    {
     "name": "stderr",
     "output_type": "stream",
     "text": [
      "2025-08-27 00:17:05,524 | INFO | text_cleaning | cleaned_pages_done | count=300 (minimal mode)\n",
      "2025-08-27 00:17:05,524 | INFO | text_cleaning | cleaned_pages_done | count=300 (minimal mode)\n"
     ]
    }
   ],
   "source": [
    "from src.ingestion.text_cleaning import clean_document_pages\n",
    "\n",
    "# Suppose 'parsed' is from pdf_parser.parse_pdf(...)\n",
    "page_texts = [(p.page_number, p.text) for p in parsing_result.pages]\n",
    "cleaned = clean_document_pages(page_texts)\n"
   ]
  },
  {
   "cell_type": "code",
   "execution_count": 34,
   "id": "9632541a",
   "metadata": {},
   "outputs": [
    {
     "data": {
      "text/plain": [
       "CleanedPage(page_number=51, raw_text='DEMOGRAPHIC ASYMMETRIES   \\n  37\\nwill be favorable and negative for the older countries. It is interesting to \\nnote the differences among the countries analyzed in the country studies of \\nthe book. Brazil and China are well ahead of India and South Africa in the \\ndemographic transition and, consequently, are expected to gain less from \\nthe FD. In comparing Brazil with China, in turn, we see that China’s drop \\nin the support ratio will be faster than in Brazil, thus accelerating its arrival \\nat the ageing state.\\nAs was mentioned earlier, Mason and Lee (2006a) sustain that the SD is \\nassociated with the fact that ageing populations have to provide for the old-\\nage consumption of older persons who typically have substantially reduced \\nlabor income. In some cases, societies seek to meet this challenge by relying \\non transfer systems (either public programs or family support systems), but \\nother societies increase their savings rates in order to accumulate wealth. In \\nturn, if policymakers are forward looking, they will also strive to accumulate \\nenough capital to support the social security system and accrue increased \\nhealth expenditures for the old. Hence, to the extent that the anticipated \\nlife-cycle deficits during the ageing stage are satisfied by relying on capital \\naccumulation, the result will be a permanent increase in the capital intensity \\nof the economy and a permanent rise in output per worker.\\nIs there evidence that the SD will not turn negative like the FD in the \\nfuture? Mason (2005) provides evidence that supports the hypothesis of a \\npermanent effect. Holding the transfer policy constant, so that the growth \\nrates of the capital and life-cycle wealth 4  are equal, the SD is calculated to \\nbe positive for all regions and substantially larger than the FD for the period \\nin question. In East and Southeast Asia, the SD was 1.31 percent per year \\nin additional income growth—the largest of any region. It was also large in \\nLatin America—1.08 percent per year.\\nThe assumption that capital accumulation and life-cycle wealth will move \\ntogether, however, is probably too strong. The simulations in chapter 3 show \\nthat large differences between the velocity of asset accumulation and the \\nvelocity of increased life-cycle wealth can arise in the case of the four coun-\\ntries analyzed. The methodology developed in chapter 2, in turn, shows why \\nthe inconsistencies between asset accumulation and the demand for life-cycle \\nwealth may give rise to unstable macroeconomic trajectories associated with \\nunsustainable public debt or persistent macroeconomic disequilibria, such as \\nexcessive current account surpluses that in the case of systemically important \\ncountries like China can contribute to feeding global imbalances. On the \\nother hand, Brazil’s analysis in this book indicates that a country can save too \\nlittle during the window of opportunity. Large-scale pay-as-you-go pensions \\nmay undermine savings and work incentives. In addition, financial markets \\nmay not be sufficiently developed and may not provide the savings vehicles \\n(mutual and pension funds, efficient professional investors) or the instru-\\nments to channel savings toward efficient investment in physical and human \\ncapital (Lee and Mason, 2010).\\nThe SD may be far more important than the FD because its effects are \\npermanent, but they are also more responsive to policies and the structural ', cleaned_text='DEMOGRAPHIC ASYMMETRIES 37 will be favorable and negative for the older countries. It is interesting to note the differences among the countries analyzed in the country studies of the book. Brazil and China are well ahead of India and South Africa in the demographic transition and, consequently, are expected to gain less from the FD. In comparing Brazil with China, in turn, we see that China’s drop in the support ratio will be faster than in Brazil, thus accelerating its arrival at the ageing state. As was mentioned earlier, Mason and Lee (2006a) sustain that the SD is associated with the fact that ageing populations have to provide for the oldage consumption of older persons who typically have substantially reduced labor income. In some cases, societies seek to meet this challenge by relying on transfer systems (either public programs or family support systems), but other societies increase their savings rates in order to accumulate wealth. In turn, if policymakers are forward looking, they will also strive to accumulate enough capital to support the social security system and accrue increased health expenditures for the old. Hence, to the extent that the anticipated life-cycle deficits during the ageing stage are satisfied by relying on capital accumulation, the result will be a permanent increase in the capital intensity of the economy and a permanent rise in output per worker. Is there evidence that the SD will not turn negative like the FD in the future? Mason (2005) provides evidence that supports the hypothesis of a permanent effect. Holding the transfer policy constant, so that the growth rates of the capital and life-cycle wealth 4 are equal, the SD is calculated to be positive for all regions and substantially larger than the FD for the period in question. In East and Southeast Asia, the SD was 1.31 percent per year in additional income growth—the largest of any region. It was also large in Latin America—1.08 percent per year. The assumption that capital accumulation and life-cycle wealth will move together, however, is probably too strong. The simulations in chapter 3 show that large differences between the velocity of asset accumulation and the velocity of increased life-cycle wealth can arise in the case of the four countries analyzed. The methodology developed in chapter 2, in turn, shows why the inconsistencies between asset accumulation and the demand for life-cycle wealth may give rise to unstable macroeconomic trajectories associated with unsustainable public debt or persistent macroeconomic disequilibria, such as excessive current account surpluses that in the case of systemically important countries like China can contribute to feeding global imbalances. On the other hand, Brazil’s analysis in this book indicates that a country can save too little during the window of opportunity. Large-scale pay-as-you-go pensions may undermine savings and work incentives. In addition, financial markets may not be sufficiently developed and may not provide the savings vehicles (mutual and pension funds, efficient professional investors) or the instruments to channel savings toward efficient investment in physical and human capital (Lee and Mason, 2010). The SD may be far more important than the FD because its effects are permanent, but they are also more responsive to policies and the structural', removed_lines=[], kept_line_indices=[])"
      ]
     },
     "execution_count": 34,
     "metadata": {},
     "output_type": "execute_result"
    }
   ],
   "source": [
    "cleaned.pages[50]#.page_number"
   ]
  },
  {
   "cell_type": "code",
   "execution_count": 35,
   "id": "32d2d849",
   "metadata": {},
   "outputs": [
    {
     "data": {
      "text/plain": [
       "'DEMOGRAPHIC ASYMMETRIES   \\n  37\\nwill be favorable and negative for the older countries. It is interesting to \\nnote the differences among the countries analyzed in the country studies of \\nthe book. Brazil and China are well ahead of India and South Africa in the \\ndemographic transition and, consequently, are expected to gain less from \\nthe FD. In comparing Brazil with China, in turn, we see that China’s drop \\nin the support ratio will be faster than in Brazil, thus accelerating its arrival \\nat the ageing state.\\nAs was mentioned earlier, Mason and Lee (2006a) sustain that the SD is \\nassociated with the fact that ageing populations have to provide for the old-\\nage consumption of older persons who typically have substantially reduced \\nlabor income. In some cases, societies seek to meet this challenge by relying \\non transfer systems (either public programs or family support systems), but \\nother societies increase their savings rates in order to accumulate wealth. In \\nturn, if policymakers are forward looking, they will also strive to accumulate \\nenough capital to support the social security system and accrue increased \\nhealth expenditures for the old. Hence, to the extent that the anticipated \\nlife-cycle deficits during the ageing stage are satisfied by relying on capital \\naccumulation, the result will be a permanent increase in the capital intensity \\nof the economy and a permanent rise in output per worker.\\nIs there evidence that the SD will not turn negative like the FD in the \\nfuture? Mason (2005) provides evidence that supports the hypothesis of a \\npermanent effect. Holding the transfer policy constant, so that the growth \\nrates of the capital and life-cycle wealth 4  are equal, the SD is calculated to \\nbe positive for all regions and substantially larger than the FD for the period \\nin question. In East and Southeast Asia, the SD was 1.31 percent per year \\nin additional income growth—the largest of any region. It was also large in \\nLatin America—1.08 percent per year.\\nThe assumption that capital accumulation and life-cycle wealth will move \\ntogether, however, is probably too strong. The simulations in chapter 3 show \\nthat large differences between the velocity of asset accumulation and the \\nvelocity of increased life-cycle wealth can arise in the case of the four coun-\\ntries analyzed. The methodology developed in chapter 2, in turn, shows why \\nthe inconsistencies between asset accumulation and the demand for life-cycle \\nwealth may give rise to unstable macroeconomic trajectories associated with \\nunsustainable public debt or persistent macroeconomic disequilibria, such as \\nexcessive current account surpluses that in the case of systemically important \\ncountries like China can contribute to feeding global imbalances. On the \\nother hand, Brazil’s analysis in this book indicates that a country can save too \\nlittle during the window of opportunity. Large-scale pay-as-you-go pensions \\nmay undermine savings and work incentives. In addition, financial markets \\nmay not be sufficiently developed and may not provide the savings vehicles \\n(mutual and pension funds, efficient professional investors) or the instru-\\nments to channel savings toward efficient investment in physical and human \\ncapital (Lee and Mason, 2010).\\nThe SD may be far more important than the FD because its effects are \\npermanent, but they are also more responsive to policies and the structural '"
      ]
     },
     "execution_count": 35,
     "metadata": {},
     "output_type": "execute_result"
    }
   ],
   "source": [
    "cleaned.pages[50].raw_text"
   ]
  },
  {
   "cell_type": "code",
   "execution_count": 36,
   "id": "73a61e96",
   "metadata": {},
   "outputs": [
    {
     "data": {
      "text/plain": [
       "'DEMOGRAPHIC ASYMMETRIES 37 will be favorable and negative for the older countries. It is interesting to note the differences among the countries analyzed in the country studies of the book. Brazil and China are well ahead of India and South Africa in the demographic transition and, consequently, are expected to gain less from the FD. In comparing Brazil with China, in turn, we see that China’s drop in the support ratio will be faster than in Brazil, thus accelerating its arrival at the ageing state. As was mentioned earlier, Mason and Lee (2006a) sustain that the SD is associated with the fact that ageing populations have to provide for the oldage consumption of older persons who typically have substantially reduced labor income. In some cases, societies seek to meet this challenge by relying on transfer systems (either public programs or family support systems), but other societies increase their savings rates in order to accumulate wealth. In turn, if policymakers are forward looking, they will also strive to accumulate enough capital to support the social security system and accrue increased health expenditures for the old. Hence, to the extent that the anticipated life-cycle deficits during the ageing stage are satisfied by relying on capital accumulation, the result will be a permanent increase in the capital intensity of the economy and a permanent rise in output per worker. Is there evidence that the SD will not turn negative like the FD in the future? Mason (2005) provides evidence that supports the hypothesis of a permanent effect. Holding the transfer policy constant, so that the growth rates of the capital and life-cycle wealth 4 are equal, the SD is calculated to be positive for all regions and substantially larger than the FD for the period in question. In East and Southeast Asia, the SD was 1.31 percent per year in additional income growth—the largest of any region. It was also large in Latin America—1.08 percent per year. The assumption that capital accumulation and life-cycle wealth will move together, however, is probably too strong. The simulations in chapter 3 show that large differences between the velocity of asset accumulation and the velocity of increased life-cycle wealth can arise in the case of the four countries analyzed. The methodology developed in chapter 2, in turn, shows why the inconsistencies between asset accumulation and the demand for life-cycle wealth may give rise to unstable macroeconomic trajectories associated with unsustainable public debt or persistent macroeconomic disequilibria, such as excessive current account surpluses that in the case of systemically important countries like China can contribute to feeding global imbalances. On the other hand, Brazil’s analysis in this book indicates that a country can save too little during the window of opportunity. Large-scale pay-as-you-go pensions may undermine savings and work incentives. In addition, financial markets may not be sufficiently developed and may not provide the savings vehicles (mutual and pension funds, efficient professional investors) or the instruments to channel savings toward efficient investment in physical and human capital (Lee and Mason, 2010). The SD may be far more important than the FD because its effects are permanent, but they are also more responsive to policies and the structural'"
      ]
     },
     "execution_count": 36,
     "metadata": {},
     "output_type": "execute_result"
    }
   ],
   "source": [
    "cleaned.pages[50].cleaned_text"
   ]
  }
 ],
 "metadata": {
  "kernelspec": {
   "display_name": ".venv",
   "language": "python",
   "name": "python3"
  },
  "language_info": {
   "codemirror_mode": {
    "name": "ipython",
    "version": 3
   },
   "file_extension": ".py",
   "mimetype": "text/x-python",
   "name": "python",
   "nbconvert_exporter": "python",
   "pygments_lexer": "ipython3",
   "version": "3.11.0"
  }
 },
 "nbformat": 4,
 "nbformat_minor": 5
}
